{
 "cells": [
  {
   "cell_type": "code",
   "execution_count": 1,
   "id": "286a400f-2eea-4544-8ac5-5cb1ce27d65c",
   "metadata": {},
   "outputs": [],
   "source": [
    "#loops"
   ]
  },
  {
   "cell_type": "code",
   "execution_count": 2,
   "id": "2a3ebb45-d81c-4d99-b7a9-4819442ddabd",
   "metadata": {},
   "outputs": [],
   "source": [
    "i=1"
   ]
  },
  {
   "cell_type": "code",
   "execution_count": 4,
   "id": "c72ecbc6-604f-4dbb-9820-0dfd77dbe602",
   "metadata": {},
   "outputs": [
    {
     "name": "stdout",
     "output_type": "stream",
     "text": [
      "1\n",
      "2\n",
      "3\n",
      "4\n",
      "5\n",
      "6\n",
      "7\n",
      "8\n",
      "9\n",
      "10\n"
     ]
    }
   ],
   "source": [
    "while i<=10:\n",
    "    print(i)\n",
    "    i=i+1"
   ]
  },
  {
   "cell_type": "code",
   "execution_count": 2,
   "id": "0240a3b9-c06f-4459-8cde-bbaf06c450da",
   "metadata": {},
   "outputs": [],
   "source": [
    "i=1"
   ]
  },
  {
   "cell_type": "code",
   "execution_count": 3,
   "id": "7c5d6720-f792-435e-bc87-532448c8bbdf",
   "metadata": {},
   "outputs": [],
   "source": [
    "n=2"
   ]
  },
  {
   "cell_type": "code",
   "execution_count": 4,
   "id": "04383587-e54d-446f-97d8-c8cd150fc155",
   "metadata": {},
   "outputs": [
    {
     "name": "stdout",
     "output_type": "stream",
     "text": [
      "2 * 1 = 2\n",
      "2 * 2 = 4\n",
      "2 * 3 = 6\n",
      "2 * 4 = 8\n",
      "2 * 5 = 10\n",
      "2 * 6 = 12\n",
      "2 * 7 = 14\n",
      "2 * 8 = 16\n",
      "2 * 9 = 18\n",
      "2 * 10 = 20\n"
     ]
    }
   ],
   "source": [
    "while i<=10:\n",
    "    print(n,\"*\",i,\"=\",n*i)\n",
    "    i=i+1"
   ]
  },
  {
   "cell_type": "code",
   "execution_count": 5,
   "id": "b03a209d-4471-429b-be78-bf456e39c55a",
   "metadata": {},
   "outputs": [],
   "source": [
    "i=1"
   ]
  },
  {
   "cell_type": "code",
   "execution_count": 6,
   "id": "da4aaf09-c315-4f59-838f-c0a294e5459d",
   "metadata": {},
   "outputs": [],
   "source": [
    "n=2"
   ]
  },
  {
   "cell_type": "code",
   "execution_count": 7,
   "id": "e18ccac4-b707-4093-8785-d8fdcbd3cf0d",
   "metadata": {},
   "outputs": [
    {
     "name": "stdout",
     "output_type": "stream",
     "text": [
      "2 * 1 = 2\n",
      "2 * 2 = 4\n",
      "2 * 3 = 6\n",
      "2 * 4 = 8\n",
      "2 * 5 = 10\n",
      "2 * 6 = 12\n",
      "2 * 7 = 14\n",
      "2 * 8 = 16\n",
      "2 * 9 = 18\n",
      "2 * 10 = 20\n"
     ]
    }
   ],
   "source": [
    "while i<=10:\n",
    "    print(n,\"*\",i,\"=\",n*i)\n",
    "    i=i+1"
   ]
  },
  {
   "cell_type": "code",
   "execution_count": 8,
   "id": "4dfdfc1b-68ab-4a57-9ff6-6d4be5c654f0",
   "metadata": {},
   "outputs": [],
   "source": [
    "i=1\n",
    "n=2"
   ]
  },
  {
   "cell_type": "code",
   "execution_count": 9,
   "id": "5d58e043-e145-4721-b29d-d248e8f73725",
   "metadata": {},
   "outputs": [
    {
     "name": "stdout",
     "output_type": "stream",
     "text": [
      "2 * 1 = 2\n",
      "2 * 2 = 4\n",
      "2 * 3 = 6\n",
      "2 * 4 = 8\n",
      "2 * 5 = 10\n",
      "2 * 6 = 12\n",
      "2 * 7 = 14\n",
      "2 * 8 = 16\n",
      "2 * 9 = 18\n",
      "2 * 10 = 20\n"
     ]
    }
   ],
   "source": [
    "while i<=10:\n",
    "    print (n,\"*\", i, \"=\", n*i)\n",
    "    i= i+1"
   ]
  },
  {
   "cell_type": "code",
   "execution_count": 10,
   "id": "9db3924c-0880-49c2-9bbf-e4dc653d47c3",
   "metadata": {},
   "outputs": [],
   "source": [
    "l1=[1,2,3,4,5]"
   ]
  },
  {
   "cell_type": "code",
   "execution_count": 11,
   "id": "f536c2e4-e998-494e-976d-5b56f3497e86",
   "metadata": {},
   "outputs": [],
   "source": [
    "i=0"
   ]
  },
  {
   "cell_type": "code",
   "execution_count": 13,
   "id": "d6381a17-b83a-4f37-9f80-e5dbfc903285",
   "metadata": {},
   "outputs": [],
   "source": [
    "while i<len(l1):\n",
    "    l1[i]=l1[i]+100\n",
    "    i=i+1"
   ]
  },
  {
   "cell_type": "code",
   "execution_count": 14,
   "id": "4d5b8156-a2d8-4736-94ae-31fa0e7e7168",
   "metadata": {},
   "outputs": [
    {
     "data": {
      "text/plain": [
       "[101, 102, 103, 104, 105]"
      ]
     },
     "execution_count": 14,
     "metadata": {},
     "output_type": "execute_result"
    }
   ],
   "source": [
    "l1"
   ]
  },
  {
   "cell_type": "code",
   "execution_count": 15,
   "id": "a06be5bf-ada2-45e2-b91f-36c46d4a4643",
   "metadata": {},
   "outputs": [],
   "source": [
    "#loop"
   ]
  },
  {
   "cell_type": "code",
   "execution_count": 16,
   "id": "4e1a4be7-082a-4b71-817c-2b08a0a387dc",
   "metadata": {},
   "outputs": [],
   "source": [
    "i=1"
   ]
  },
  {
   "cell_type": "code",
   "execution_count": 21,
   "id": "d907b55b-0bff-4a1f-9422-873bd0f2ee7b",
   "metadata": {},
   "outputs": [
    {
     "name": "stdout",
     "output_type": "stream",
     "text": [
      "1\n",
      "2\n",
      "3\n",
      "4\n",
      "5\n",
      "6\n",
      "7\n",
      "8\n",
      "9\n",
      "10\n"
     ]
    }
   ],
   "source": [
    "while i<=10:\n",
    "       print(i)\n",
    "       i=i+1"
   ]
  },
  {
   "cell_type": "code",
   "execution_count": 22,
   "id": "d133fd9d-8164-46e1-aeb6-7f2ad34c4260",
   "metadata": {},
   "outputs": [],
   "source": [
    "i=1"
   ]
  },
  {
   "cell_type": "code",
   "execution_count": 23,
   "id": "ba1af217-5c0f-4167-88a5-145689d4c02b",
   "metadata": {},
   "outputs": [],
   "source": [
    "n=2"
   ]
  },
  {
   "cell_type": "code",
   "execution_count": 25,
   "id": "9d8e85ea-0d07-495c-83a7-9e6c0f2a4e6e",
   "metadata": {},
   "outputs": [
    {
     "name": "stdout",
     "output_type": "stream",
     "text": [
      "2 * 1 = 2\n",
      "2 * 2 = 4\n",
      "2 * 3 = 6\n",
      "2 * 4 = 8\n",
      "2 * 5 = 10\n",
      "2 * 6 = 12\n",
      "2 * 7 = 14\n",
      "2 * 8 = 16\n",
      "2 * 9 = 18\n",
      "2 * 10 = 20\n"
     ]
    }
   ],
   "source": [
    "while i<=10:\n",
    "    print(n,\"*\",i,\"=\",n*i)\n",
    "    i=i+1"
   ]
  },
  {
   "cell_type": "code",
   "execution_count": 26,
   "id": "f5605130-f74e-4f84-ae4d-80c0206fa4b3",
   "metadata": {},
   "outputs": [],
   "source": [
    "l1=[1,2,3,4,5,6]"
   ]
  },
  {
   "cell_type": "code",
   "execution_count": 27,
   "id": "6d38b12c-c234-4b88-b457-67ea4fab90f5",
   "metadata": {},
   "outputs": [],
   "source": [
    "i=0"
   ]
  },
  {
   "cell_type": "code",
   "execution_count": 30,
   "id": "7ef878ee-d1da-4459-aa27-0458e91fd8d4",
   "metadata": {},
   "outputs": [],
   "source": [
    "while i< len(l1):\n",
    "    l1[i]=l1[i]+100\n",
    "    i=i+1"
   ]
  },
  {
   "cell_type": "code",
   "execution_count": 31,
   "id": "30bd31ef-10b5-44df-8e0f-b5a7ebc7c4d8",
   "metadata": {},
   "outputs": [
    {
     "data": {
      "text/plain": [
       "[101, 102, 103, 104, 105, 106]"
      ]
     },
     "execution_count": 31,
     "metadata": {},
     "output_type": "execute_result"
    }
   ],
   "source": [
    "l1"
   ]
  },
  {
   "cell_type": "code",
   "execution_count": 32,
   "id": "269688aa-1797-4624-a587-22ec716c496b",
   "metadata": {},
   "outputs": [],
   "source": [
    "l1=[1,2,3,4,5,6,7,8,9]"
   ]
  },
  {
   "cell_type": "code",
   "execution_count": 33,
   "id": "b8ed129a-907e-4f15-af54-b97d0808c9bc",
   "metadata": {},
   "outputs": [],
   "source": [
    "i=6"
   ]
  },
  {
   "cell_type": "code",
   "execution_count": 34,
   "id": "0931c670-4fd1-4cfa-903f-2a3efe7156eb",
   "metadata": {},
   "outputs": [],
   "source": [
    "while i<len(l1):\n",
    "    l1[i]=l1[i]+100\n",
    "    i=i+1"
   ]
  },
  {
   "cell_type": "code",
   "execution_count": 64,
   "id": "e0a4d31c-9278-4075-8821-b109560d75b1",
   "metadata": {},
   "outputs": [],
   "source": [
    "l1=[1,2,3,4,5,6,7,8,9,10,11]"
   ]
  },
  {
   "cell_type": "code",
   "execution_count": 65,
   "id": "536c2bf0-cbbd-414b-a503-8b363e9a8c6b",
   "metadata": {},
   "outputs": [],
   "source": [
    "i=4"
   ]
  },
  {
   "cell_type": "code",
   "execution_count": 67,
   "id": "131b0e51-abc3-4283-914c-b26b7cd16862",
   "metadata": {},
   "outputs": [],
   "source": [
    "while i< len(l1):\n",
    "      l1[i]=l1[i]+11\n",
    "      i=i+1"
   ]
  },
  {
   "cell_type": "code",
   "execution_count": 68,
   "id": "d6dd9f82-ae1a-46a8-80ce-e2e15c46312c",
   "metadata": {},
   "outputs": [
    {
     "data": {
      "text/plain": [
       "[1, 2, 3, 4, 16, 17, 18, 19, 20, 21, 22]"
      ]
     },
     "execution_count": 68,
     "metadata": {},
     "output_type": "execute_result"
    }
   ],
   "source": [
    "l1"
   ]
  },
  {
   "cell_type": "code",
   "execution_count": 69,
   "id": "50aa8016-0030-4904-bd0c-88bde9c8b576",
   "metadata": {},
   "outputs": [],
   "source": [
    "l1=[\"apple\",\"banana\",\"orange\"]"
   ]
  },
  {
   "cell_type": "code",
   "execution_count": 70,
   "id": "a667ba02-a2bc-41e7-91c0-f746e0b36fef",
   "metadata": {},
   "outputs": [
    {
     "name": "stdout",
     "output_type": "stream",
     "text": [
      "apple\n",
      "banana\n",
      "orange\n"
     ]
    }
   ],
   "source": [
    "for i in l1:\n",
    "    print(i)"
   ]
  },
  {
   "cell_type": "code",
   "execution_count": 71,
   "id": "d572b81e-7e6c-45ff-ab93-b96ebd096a55",
   "metadata": {},
   "outputs": [],
   "source": [
    "l1=[\"purple\",\"blue\",\"green\"]\n",
    "l2=[\"chair\",\"phone\",\"book\"]"
   ]
  },
  {
   "cell_type": "code",
   "execution_count": 72,
   "id": "dcf533ea-e9d2-4c6f-872f-397c786893c1",
   "metadata": {},
   "outputs": [
    {
     "name": "stdout",
     "output_type": "stream",
     "text": [
      "purple chair\n",
      "purple phone\n",
      "purple book\n",
      "blue chair\n",
      "blue phone\n",
      "blue book\n",
      "green chair\n",
      "green phone\n",
      "green book\n"
     ]
    }
   ],
   "source": [
    "for i in l1:\n",
    "      for j in l2:\n",
    "          print(i,j)"
   ]
  },
  {
   "cell_type": "code",
   "execution_count": 73,
   "id": "ca46a50f-8007-479b-8b84-c554b3c8bccc",
   "metadata": {},
   "outputs": [],
   "source": [
    "l1=[\"john\",\"mary\",\"angie\",\"jones\",\"titus\"]\n",
    "l2=[\"smith\"]"
   ]
  },
  {
   "cell_type": "code",
   "execution_count": 74,
   "id": "996b268f-266e-430c-ab0d-dbc71c3205d3",
   "metadata": {},
   "outputs": [
    {
     "name": "stdout",
     "output_type": "stream",
     "text": [
      "john smith\n",
      "mary smith\n",
      "angie smith\n",
      "jones smith\n",
      "titus smith\n"
     ]
    }
   ],
   "source": [
    "for i in l1:\n",
    "    for j in l2:\n",
    "         print(i,j)\n",
    "  "
   ]
  },
  {
   "cell_type": "code",
   "execution_count": 77,
   "id": "3e9b2f6d-d4db-45e1-b209-ee2f83fa0792",
   "metadata": {},
   "outputs": [],
   "source": [
    "l1=[\"mary\",\"john\",\"sandra\",\"sonie\"]\n",
    "l2=[1,2,3,4]"
   ]
  },
  {
   "cell_type": "code",
   "execution_count": 78,
   "id": "4ccd1ab6-49c8-4fb6-ab46-0f72e20e13ed",
   "metadata": {},
   "outputs": [
    {
     "name": "stdout",
     "output_type": "stream",
     "text": [
      "mary 1\n",
      "mary 2\n",
      "mary 3\n",
      "mary 4\n",
      "john 1\n",
      "john 2\n",
      "john 3\n",
      "john 4\n",
      "sandra 1\n",
      "sandra 2\n",
      "sandra 3\n",
      "sandra 4\n",
      "sonie 1\n",
      "sonie 2\n",
      "sonie 3\n",
      "sonie 4\n"
     ]
    }
   ],
   "source": [
    "for i in l1:\n",
    "    for j in l2:\n",
    "        print(i,j)"
   ]
  },
  {
   "cell_type": "code",
   "execution_count": null,
   "id": "17f0fcc2-9d38-4837-9232-2e4fa1434e34",
   "metadata": {},
   "outputs": [],
   "source": []
  }
 ],
 "metadata": {
  "kernelspec": {
   "display_name": "Python [conda env:base] *",
   "language": "python",
   "name": "conda-base-py"
  },
  "language_info": {
   "codemirror_mode": {
    "name": "ipython",
    "version": 3
   },
   "file_extension": ".py",
   "mimetype": "text/x-python",
   "name": "python",
   "nbconvert_exporter": "python",
   "pygments_lexer": "ipython3",
   "version": "3.13.5"
  }
 },
 "nbformat": 4,
 "nbformat_minor": 5
}
