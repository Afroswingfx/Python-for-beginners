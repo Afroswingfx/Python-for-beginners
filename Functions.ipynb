{
 "cells": [
  {
   "cell_type": "code",
   "execution_count": 1,
   "id": "c3d3db0a-51a7-459f-b383-97c526402b1d",
   "metadata": {},
   "outputs": [],
   "source": [
    "#Functions"
   ]
  },
  {
   "cell_type": "code",
   "execution_count": 2,
   "id": "dd69b86d-9a9a-4e4b-ae10-c979a7220a5b",
   "metadata": {},
   "outputs": [],
   "source": [
    "def hello():\n",
    "    print(\"hello world\")"
   ]
  },
  {
   "cell_type": "code",
   "execution_count": 3,
   "id": "c0fa0725-659d-46a1-99f0-72b4c5bb1d63",
   "metadata": {},
   "outputs": [
    {
     "name": "stdout",
     "output_type": "stream",
     "text": [
      "hello world\n"
     ]
    }
   ],
   "source": [
    "hello()"
   ]
  },
  {
   "cell_type": "code",
   "execution_count": 4,
   "id": "e7571a0e-9893-4571-ba65-da6ec4e5b189",
   "metadata": {},
   "outputs": [],
   "source": [
    "#Function with parameter"
   ]
  },
  {
   "cell_type": "code",
   "execution_count": 5,
   "id": "ed899a5f-9c16-48bd-bdd4-a69c496cedf9",
   "metadata": {},
   "outputs": [],
   "source": [
    "def add10(x):\n",
    "    return x+10"
   ]
  },
  {
   "cell_type": "code",
   "execution_count": 6,
   "id": "b7df5387-f21e-48bf-aac5-927f9e4978ed",
   "metadata": {},
   "outputs": [
    {
     "data": {
      "text/plain": [
       "20"
      ]
     },
     "execution_count": 6,
     "metadata": {},
     "output_type": "execute_result"
    }
   ],
   "source": [
    "add10(10)"
   ]
  },
  {
   "cell_type": "code",
   "execution_count": 7,
   "id": "421a4498-8043-4180-a12e-3883d9e03770",
   "metadata": {},
   "outputs": [
    {
     "data": {
      "text/plain": [
       "43"
      ]
     },
     "execution_count": 7,
     "metadata": {},
     "output_type": "execute_result"
    }
   ],
   "source": [
    "add10(33)"
   ]
  },
  {
   "cell_type": "code",
   "execution_count": 8,
   "id": "56f1e09b-7a3f-4b51-beef-45c58f181eef",
   "metadata": {},
   "outputs": [
    {
     "data": {
      "text/plain": [
       "7"
      ]
     },
     "execution_count": 8,
     "metadata": {},
     "output_type": "execute_result"
    }
   ],
   "source": [
    "add10(-3)"
   ]
  },
  {
   "cell_type": "code",
   "execution_count": 12,
   "id": "8a391d13-5fb7-4bab-a393-d6918a8d6e8a",
   "metadata": {},
   "outputs": [],
   "source": [
    "def even_odd(x):\n",
    "     if x%2==0:\n",
    "         print(x,\"is even\")\n",
    "     else:\n",
    "         print(x, \"is odd\")"
   ]
  },
  {
   "cell_type": "code",
   "execution_count": 13,
   "id": "49a742ca-bcda-4c7d-b4aa-b2568ab1246f",
   "metadata": {},
   "outputs": [
    {
     "name": "stdout",
     "output_type": "stream",
     "text": [
      "5 is odd\n"
     ]
    }
   ],
   "source": [
    "even_odd(5)"
   ]
  },
  {
   "cell_type": "code",
   "execution_count": 14,
   "id": "d87a797b-1840-4009-9e74-ed98b000ab76",
   "metadata": {},
   "outputs": [
    {
     "name": "stdout",
     "output_type": "stream",
     "text": [
      "8 is even\n"
     ]
    }
   ],
   "source": [
    "even_odd(8)"
   ]
  },
  {
   "cell_type": "code",
   "execution_count": 15,
   "id": "a21266fb-552a-4aa2-ba78-525cb0bc4478",
   "metadata": {},
   "outputs": [],
   "source": [
    "#Lambda functions"
   ]
  },
  {
   "cell_type": "code",
   "execution_count": 16,
   "id": "ea90e50d-0255-4a89-9b1e-fb3ffd7e3731",
   "metadata": {},
   "outputs": [
    {
     "name": "stdout",
     "output_type": "stream",
     "text": [
      "9\n"
     ]
    }
   ],
   "source": [
    "g= lambda x: x*x\n",
    "print(g(3))"
   ]
  },
  {
   "cell_type": "code",
   "execution_count": 17,
   "id": "3a49cb43-b372-4d2c-be6c-96311fcc75c9",
   "metadata": {},
   "outputs": [
    {
     "name": "stdout",
     "output_type": "stream",
     "text": [
      "50.0\n"
     ]
    }
   ],
   "source": [
    "g=lambda x: x*0.5\n",
    "print (g(100))"
   ]
  },
  {
   "cell_type": "code",
   "execution_count": 19,
   "id": "fcdd04a0-be83-4ff9-a5f9-77cf7b91630f",
   "metadata": {},
   "outputs": [
    {
     "name": "stdout",
     "output_type": "stream",
     "text": [
      "64\n"
     ]
    }
   ],
   "source": [
    "g=lambda x: x*x*x\n",
    "print(g(4))"
   ]
  },
  {
   "cell_type": "code",
   "execution_count": 20,
   "id": "0fa0e88a-9de4-4ea4-a453-0d3380c9967a",
   "metadata": {},
   "outputs": [],
   "source": [
    "#Lambda functions with filter"
   ]
  },
  {
   "cell_type": "code",
   "execution_count": 24,
   "id": "e2c87b5a-60c6-47e5-a5e9-04f6621495f9",
   "metadata": {},
   "outputs": [
    {
     "name": "stdout",
     "output_type": "stream",
     "text": [
      "[5, 13, 99]\n"
     ]
    }
   ],
   "source": [
    "l1=[5,13,24,12,88,99,98,66]\n",
    "final_list = list(filter(lambda x: (x%2!=0),l1))\n",
    "print (final_list)"
   ]
  },
  {
   "cell_type": "code",
   "execution_count": 27,
   "id": "9e4d0717-b425-4a75-a38d-7d1d76884992",
   "metadata": {},
   "outputs": [
    {
     "name": "stdout",
     "output_type": "stream",
     "text": [
      "[24, 12, 88, 98, 66]\n"
     ]
    }
   ],
   "source": [
    "final_list= list(filter(lambda x: (x%2==0),l1))\n",
    "print(final_list)"
   ]
  },
  {
   "cell_type": "code",
   "execution_count": 28,
   "id": "d4dacbc1-8ea5-4eb7-aa39-9bc332861047",
   "metadata": {},
   "outputs": [],
   "source": [
    "#Lambda Functions with map"
   ]
  },
  {
   "cell_type": "code",
   "execution_count": 29,
   "id": "5d6799d0-6268-44e1-93ab-0e57b6343f92",
   "metadata": {},
   "outputs": [
    {
     "name": "stdout",
     "output_type": "stream",
     "text": [
      "[2.5, 4.0, 4.5, 3.5, 5.5, 11.0, 16.5, 33.0, 43.5]\n"
     ]
    }
   ],
   "source": [
    "li=[5,8,9,7,11,22,33,66,87]\n",
    "final_list = list(map(lambda x:x*0.5,li))\n",
    "print(final_list)"
   ]
  },
  {
   "cell_type": "code",
   "execution_count": 30,
   "id": "6f9eae95-f330-4fa3-9c20-71d90b343e91",
   "metadata": {},
   "outputs": [
    {
     "name": "stdout",
     "output_type": "stream",
     "text": [
      "110\n"
     ]
    }
   ],
   "source": [
    "from functools import reduce\n",
    "li=[2,4,6,8,10,12,14,16,18,20]\n",
    "sum= reduce((lambda x,y:x+y),li)\n",
    "print(sum)"
   ]
  },
  {
   "cell_type": "code",
   "execution_count": null,
   "id": "539fcd05-b92a-4199-8a1a-d64d3b86c502",
   "metadata": {},
   "outputs": [],
   "source": []
  }
 ],
 "metadata": {
  "kernelspec": {
   "display_name": "Python [conda env:base] *",
   "language": "python",
   "name": "conda-base-py"
  },
  "language_info": {
   "codemirror_mode": {
    "name": "ipython",
    "version": 3
   },
   "file_extension": ".py",
   "mimetype": "text/x-python",
   "name": "python",
   "nbconvert_exporter": "python",
   "pygments_lexer": "ipython3",
   "version": "3.13.5"
  }
 },
 "nbformat": 4,
 "nbformat_minor": 5
}
